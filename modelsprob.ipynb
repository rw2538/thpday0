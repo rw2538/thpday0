{
 "cells": [
  {
   "cell_type": "markdown",
   "metadata": {
    "hide": true
   },
   "source": [
    "## Probability, Modeling and Simulation"
   ]
  },
  {
   "cell_type": "markdown",
   "metadata": {},
   "source": [
    "\n",
    "\n",
    "We will do:\n",
    "\n",
    "* numpy\n",
    "* Describe a very simple model of coin tosses\n",
    "* Coin tosses model simulation.\n",
    "* The notion of a generative model\n",
    "* Election model. Simulation. \n",
    "* Evaluation of the election model.\n"
   ]
  },
  {
   "cell_type": "code",
   "execution_count": 1,
   "metadata": {
    "hide": true
   },
   "outputs": [
    {
     "name": "stderr",
     "output_type": "stream",
     "text": [
      "/srv/conda/envs/notebook/lib/python3.7/site-packages/matplotlib/__init__.py:855: MatplotlibDeprecationWarning: \n",
      "examples.directory is deprecated; in the future, examples will be found relative to the 'datapath' directory.\n",
      "  \"found relative to the 'datapath' directory.\".format(key))\n",
      "/srv/conda/envs/notebook/lib/python3.7/site-packages/matplotlib/__init__.py:846: MatplotlibDeprecationWarning: \n",
      "The text.latex.unicode rcparam was deprecated in Matplotlib 2.2 and will be removed in 3.1.\n",
      "  \"2.2\", name=key, obj_type=\"rcparam\", addendum=addendum)\n",
      "/srv/conda/envs/notebook/lib/python3.7/site-packages/seaborn/apionly.py:9: UserWarning: As seaborn no longer sets a default style on import, the seaborn.apionly module is deprecated. It will be removed in a future version.\n",
      "  warnings.warn(msg, UserWarning)\n"
     ]
    }
   ],
   "source": [
    "%matplotlib inline\n",
    "import numpy as np\n",
    "import scipy as sp\n",
    "import matplotlib as mpl\n",
    "import matplotlib.cm as cm\n",
    "import matplotlib.pyplot as plt\n",
    "import pandas as pd\n",
    "import seaborn.apionly as sns"
   ]
  },
  {
   "cell_type": "markdown",
   "metadata": {},
   "source": [
    "## Hello Numpy\n",
    "\n",
    "The Numpy array processing library is the basis of nearly all numerical computing in Python. Here's a 30 second crash course. "
   ]
  },
  {
   "cell_type": "code",
   "execution_count": 2,
   "metadata": {},
   "outputs": [
    {
     "name": "stdout",
     "output_type": "stream",
     "text": [
      "Make a 3 row x 4 column array of random numbers\n",
      "[[0.80986204 0.26122524 0.2779516  0.97027761]\n",
      " [0.28969664 0.04864524 0.25431595 0.91410378]\n",
      " [0.0300684  0.41848603 0.08975484 0.76618671]] \n",
      "\n",
      "-----------------\n",
      "Get the element at row 1, column 2\n",
      "0.25431595337845314\n",
      "Get the first row\n",
      "[0.80986204 0.26122524 0.2779516  0.97027761]\n",
      "Last 2 items in the first row\n",
      "[0.2779516  0.97027761]\n",
      "Get every 2nd item in the first row\n",
      "[0.80986204 0.2779516 ]\n"
     ]
    }
   ],
   "source": [
    "print(\"Make a 3 row x 4 column array of random numbers\")\n",
    "x = np.random.random((3, 4))\n",
    "print(x,\"\\n\")\n",
    "print(\"-----------------\")\n",
    "print(\"Get the element at row 1, column 2\")\n",
    "print(x[1, 2])\n",
    "\n",
    "# The colon syntax is called \"slicing\" the array. \n",
    "print(\"Get the first row\")\n",
    "print(x[0, :])\n",
    "\n",
    "print(\"Last 2 items in the first row\")\n",
    "print(x[0, -2:])\n",
    "\n",
    "print(\"Get every 2nd item in the first row\")\n",
    "print(x[0, ::2])"
   ]
  },
  {
   "cell_type": "code",
   "execution_count": 3,
   "metadata": {},
   "outputs": [
    {
     "name": "stdout",
     "output_type": "stream",
     "text": [
      "Max is   0.9702776149964419\n",
      "Min is   0.030068404073359756\n",
      "Mean is  0.4275478404502538\n"
     ]
    }
   ],
   "source": [
    "print(\"Max is  \", x.max())\n",
    "print(\"Min is  \", x.min())\n",
    "print(\"Mean is \", x.mean())"
   ]
  },
  {
   "cell_type": "code",
   "execution_count": 4,
   "metadata": {},
   "outputs": [
    {
     "data": {
      "text/plain": [
       "array([[0.80986204, 0.26122524, 0.2779516 , 0.97027761],\n",
       "       [0.28969664, 0.04864524, 0.25431595, 0.91410378],\n",
       "       [0.0300684 , 0.41848603, 0.08975484, 0.76618671]])"
      ]
     },
     "execution_count": 4,
     "metadata": {},
     "output_type": "execute_result"
    }
   ],
   "source": [
    "x"
   ]
  },
  {
   "cell_type": "code",
   "execution_count": 5,
   "metadata": {},
   "outputs": [
    {
     "name": "stdout",
     "output_type": "stream",
     "text": [
      "[0.97027761 0.91410378 0.76618671]\n"
     ]
    }
   ],
   "source": [
    "print(x.max(axis=1))"
   ]
  },
  {
   "cell_type": "code",
   "execution_count": 6,
   "metadata": {},
   "outputs": [
    {
     "name": "stdout",
     "output_type": "stream",
     "text": [
      "[0.80986204 0.41848603 0.2779516  0.97027761]\n"
     ]
    }
   ],
   "source": [
    "print(x.max(axis=0))"
   ]
  },
  {
   "cell_type": "markdown",
   "metadata": {},
   "source": [
    "There are many ways to construct these arrays"
   ]
  },
  {
   "cell_type": "code",
   "execution_count": 7,
   "metadata": {},
   "outputs": [
    {
     "data": {
      "text/plain": [
       "((5,), dtype('int64'))"
      ]
     },
     "execution_count": 7,
     "metadata": {},
     "output_type": "execute_result"
    }
   ],
   "source": [
    "thearray = np.array([1, 2, 3, 4, 5])\n",
    "thearray.shape, thearray.dtype"
   ]
  },
  {
   "cell_type": "code",
   "execution_count": 8,
   "metadata": {},
   "outputs": [
    {
     "data": {
      "text/plain": [
       "array([1, 1, 1, 1, 1, 1, 1, 1, 1, 1])"
      ]
     },
     "execution_count": 8,
     "metadata": {},
     "output_type": "execute_result"
    }
   ],
   "source": [
    "ones = np.ones(10, dtype=\"int64\")\n",
    "ones"
   ]
  },
  {
   "cell_type": "code",
   "execution_count": 9,
   "metadata": {},
   "outputs": [
    {
     "data": {
      "text/plain": [
       "array([1., 1., 1., 1., 1., 1., 1., 1., 1., 1.])"
      ]
     },
     "execution_count": 9,
     "metadata": {},
     "output_type": "execute_result"
    }
   ],
   "source": [
    "ones_float = np.ones(10)\n",
    "ones_float"
   ]
  },
  {
   "cell_type": "code",
   "execution_count": 10,
   "metadata": {},
   "outputs": [
    {
     "data": {
      "text/plain": [
       "array([[0., 0., 0., 0.],\n",
       "       [0., 0., 0., 0.],\n",
       "       [0., 0., 0., 0.]])"
      ]
     },
     "execution_count": 10,
     "metadata": {},
     "output_type": "execute_result"
    }
   ],
   "source": [
    "np.zeros((3,4))"
   ]
  },
  {
   "cell_type": "code",
   "execution_count": 11,
   "metadata": {},
   "outputs": [
    {
     "data": {
      "text/plain": [
       "array([[0., 0., 0., 0.],\n",
       "       [0., 0., 0., 0.],\n",
       "       [0., 0., 0., 0.]])"
      ]
     },
     "execution_count": 11,
     "metadata": {},
     "output_type": "execute_result"
    }
   ],
   "source": [
    "np.empty((3,4))"
   ]
  },
  {
   "cell_type": "markdown",
   "metadata": {},
   "source": [
    "Operations on numpy arrays are very different from those on regular python lists."
   ]
  },
  {
   "cell_type": "code",
   "execution_count": 12,
   "metadata": {},
   "outputs": [
    {
     "data": {
      "text/plain": [
       "array([[0.80986204, 0.26122524, 0.2779516 , 0.97027761],\n",
       "       [0.28969664, 0.04864524, 0.25431595, 0.91410378],\n",
       "       [0.0300684 , 0.41848603, 0.08975484, 0.76618671]])"
      ]
     },
     "execution_count": 12,
     "metadata": {},
     "output_type": "execute_result"
    }
   ],
   "source": [
    "x"
   ]
  },
  {
   "cell_type": "code",
   "execution_count": 13,
   "metadata": {},
   "outputs": [
    {
     "name": "stdout",
     "output_type": "stream",
     "text": [
      "Add 1 to every element\n"
     ]
    },
    {
     "data": {
      "text/plain": [
       "(array([[0.80986204, 0.26122524, 0.2779516 , 0.97027761],\n",
       "        [0.28969664, 0.04864524, 0.25431595, 0.91410378],\n",
       "        [0.0300684 , 0.41848603, 0.08975484, 0.76618671]]),\n",
       " array([[1.80986204, 1.26122524, 1.2779516 , 1.97027761],\n",
       "        [1.28969664, 1.04864524, 1.25431595, 1.91410378],\n",
       "        [1.0300684 , 1.41848603, 1.08975484, 1.76618671]]))"
      ]
     },
     "execution_count": 13,
     "metadata": {},
     "output_type": "execute_result"
    }
   ],
   "source": [
    "print(\"Add 1 to every element\")\n",
    "y = x + 1\n",
    "x, y"
   ]
  },
  {
   "cell_type": "markdown",
   "metadata": {},
   "source": [
    "This notion of adding 1 to every element, by virtually creating an array of 1's is called **broadcasting**"
   ]
  },
  {
   "cell_type": "code",
   "execution_count": 15,
   "metadata": {},
   "outputs": [
    {
     "data": {
      "text/plain": [
       "[1, 1, 1, 1, 1, 1.0, 1.0, 1.0, 1.0, 1.0]"
      ]
     },
     "execution_count": 15,
     "metadata": {},
     "output_type": "execute_result"
    }
   ],
   "source": [
    "int_ones_list = [1, 1, 1, 1, 1]\n",
    "float_ones_list = [1., 1., 1., 1., 1.]\n",
    "int_ones_list + float_ones_list # addition concatenates results"
   ]
  },
  {
   "cell_type": "markdown",
   "metadata": {},
   "source": [
    "This is not perhaps what you wanted....you might have wanted this"
   ]
  },
  {
   "cell_type": "code",
   "execution_count": 16,
   "metadata": {},
   "outputs": [
    {
     "data": {
      "text/plain": [
       "(array([1, 1, 1, 1, 1, 1, 1, 1, 1, 1]),\n",
       " array([1., 1., 1., 1., 1., 1., 1., 1., 1., 1.]),\n",
       " array([2., 2., 2., 2., 2., 2., 2., 2., 2., 2.]))"
      ]
     },
     "execution_count": 16,
     "metadata": {},
     "output_type": "execute_result"
    }
   ],
   "source": [
    "twos = ones + ones_float\n",
    "ones, ones_float, twos"
   ]
  },
  {
   "cell_type": "code",
   "execution_count": 17,
   "metadata": {},
   "outputs": [
    {
     "data": {
      "text/plain": [
       "array([0.93198416, 0.40527178, 0.05458834, 0.64320597, 0.9669345 ,\n",
       "       0.99156852, 0.76311423, 0.57593569, 0.81583534, 0.95024002])"
      ]
     },
     "execution_count": 17,
     "metadata": {},
     "output_type": "execute_result"
    }
   ],
   "source": [
    "r = np.random.random(10)\n",
    "r"
   ]
  },
  {
   "cell_type": "code",
   "execution_count": 18,
   "metadata": {},
   "outputs": [
    {
     "data": {
      "text/plain": [
       "array([0.        , 0.11111111, 0.22222222, 0.33333333, 0.44444444,\n",
       "       0.55555556, 0.66666667, 0.77777778, 0.88888889, 1.        ])"
      ]
     },
     "execution_count": 18,
     "metadata": {},
     "output_type": "execute_result"
    }
   ],
   "source": [
    "np.linspace(0, 1, 10)"
   ]
  },
  {
   "cell_type": "code",
   "execution_count": 19,
   "metadata": {},
   "outputs": [
    {
     "data": {
      "text/plain": [
       "array([0. , 0.1, 0.2, 0.3, 0.4, 0.5, 0.6, 0.7, 0.8, 0.9])"
      ]
     },
     "execution_count": 19,
     "metadata": {},
     "output_type": "execute_result"
    }
   ],
   "source": [
    "np.arange(0.0, 1.0, 0.1) # This is what we want"
   ]
  },
  {
   "cell_type": "code",
   "execution_count": 20,
   "metadata": {
    "scrolled": true
   },
   "outputs": [
    {
     "data": {
      "image/png": "[encoded data removed]",
      "text/plain": [
       "<Figure size 432x288 with 1 Axes>"
      ]
     },
     "metadata": {
      "needs_background": "light"
     },
     "output_type": "display_data"
    }
   ],
   "source": [
    "plt.hist(r, bins=np.arange(0.0, 1.0, 0.1));"
   ]
  },
  {
   "cell_type": "code",
   "execution_count": 24,
   "metadata": {},
   "outputs": [
    {
     "data": {
      "text/plain": [
       "<matplotlib.lines.Line2D at 0x7f51b27283c8>"
      ]
     },
     "execution_count": 24,
     "metadata": {},
     "output_type": "execute_result"
    },
    {
     "data": {
      "image/png": "[encoded data removed]",
      "text/plain": [
       "<Figure size 432x288 with 1 Axes>"
      ]
     },
     "metadata": {
      "needs_background": "light"
     },
     "output_type": "display_data"
    }
   ],
   "source": [
    "r2 = np.random.random(100000)\n",
    "plt.hist(r2, bins=np.arange(0.0, 1.0, 0.1), alpha=0.5);\n",
    "plt.axhline(10000, 0, 1, color=\"r\")"
   ]
  },
  {
   "cell_type": "markdown",
   "metadata": {},
   "source": [
    "More broadcasting"
   ]
  },
  {
   "cell_type": "code",
   "execution_count": 25,
   "metadata": {
    "scrolled": true
   },
   "outputs": [
    {
     "data": {
      "text/plain": [
       "(array([1.86396832, 0.81054356, 0.10917669, 1.28641193, 1.933869  ,\n",
       "        1.98313703, 1.52622846, 1.15187139, 1.63167068, 1.90048003]),\n",
       " array([0.46599208, 0.20263589, 0.02729417, 0.32160298, 0.48346725,\n",
       "        0.49578426, 0.38155712, 0.28796785, 0.40791767, 0.47512001]))"
      ]
     },
     "execution_count": 25,
     "metadata": {},
     "output_type": "execute_result"
    }
   ],
   "source": [
    "r*2, r/2"
   ]
  },
  {
   "cell_type": "code",
   "execution_count": 27,
   "metadata": {},
   "outputs": [
    {
     "data": {
      "text/plain": [
       "(array([0.93198416, 0.40527178, 0.05458834, 0.64320597, 0.9669345 ,\n",
       "        0.99156852, 0.76311423, 0.57593569, 0.81583534, 0.95024002]),\n",
       " array([2., 2., 2., 2., 2., 2., 2., 2., 2., 2.]))"
      ]
     },
     "execution_count": 27,
     "metadata": {},
     "output_type": "execute_result"
    }
   ],
   "source": [
    "r, twos"
   ]
  },
  {
   "cell_type": "code",
   "execution_count": 31,
   "metadata": {},
   "outputs": [
    {
     "data": {
      "text/plain": [
       "array([1.86396832, 0.81054356, 0.10917669, 1.28641193, 1.933869  ,\n",
       "       1.98313703, 1.52622846, 1.15187139, 1.63167068, 1.90048003])"
      ]
     },
     "execution_count": 31,
     "metadata": {},
     "output_type": "execute_result"
    }
   ],
   "source": [
    "r*twos\n"
   ]
  },
  {
   "cell_type": "code",
   "execution_count": 32,
   "metadata": {},
   "outputs": [
    {
     "data": {
      "text/plain": [
       "14.197357100622224"
      ]
     },
     "execution_count": 32,
     "metadata": {},
     "output_type": "execute_result"
    }
   ],
   "source": [
    "np.dot(r, twos)"
   ]
  },
  {
   "cell_type": "markdown",
   "metadata": {},
   "source": [
    "We can also play with 2D arrays"
   ]
  },
  {
   "cell_type": "code",
   "execution_count": 33,
   "metadata": {},
   "outputs": [
    {
     "data": {
      "text/plain": [
       "array([[ 1,  2,  3,  4],\n",
       "       [ 5,  6,  7,  8],\n",
       "       [ 9, 10, 11, 12]])"
      ]
     },
     "execution_count": 33,
     "metadata": {},
     "output_type": "execute_result"
    }
   ],
   "source": [
    "my_array2d = np.array([ [1, 2, 3, 4], [5, 6, 7, 8], [9, 10, 11, 12] ])\n",
    "my_array2d"
   ]
  },
  {
   "cell_type": "code",
   "execution_count": 34,
   "metadata": {},
   "outputs": [
    {
     "data": {
      "text/plain": [
       "(3, 4)"
      ]
     },
     "execution_count": 34,
     "metadata": {},
     "output_type": "execute_result"
    }
   ],
   "source": [
    "my_array2d.shape"
   ]
  },
  {
   "cell_type": "code",
   "execution_count": 35,
   "metadata": {},
   "outputs": [
    {
     "data": {
      "text/plain": [
       "12"
      ]
     },
     "execution_count": 35,
     "metadata": {},
     "output_type": "execute_result"
    }
   ],
   "source": [
    "my_array2d[2, 3]"
   ]
  },
  {
   "cell_type": "markdown",
   "metadata": {},
   "source": [
    "Slicing is supported in 2D arrays.\n",
    "\n",
    "![](images/2dindex_v2.png)"
   ]
  },
  {
   "cell_type": "code",
   "execution_count": 36,
   "metadata": {},
   "outputs": [
    {
     "data": {
      "text/plain": [
       "array([[ 1.80986204,  2.26122524,  3.2779516 ,  4.97027761],\n",
       "       [ 5.28969664,  6.04864524,  7.25431595,  8.91410378],\n",
       "       [ 9.0300684 , 10.41848603, 11.08975484, 12.76618671]])"
      ]
     },
     "execution_count": 36,
     "metadata": {},
     "output_type": "execute_result"
    }
   ],
   "source": [
    "x + my_array2d"
   ]
  },
  {
   "cell_type": "code",
   "execution_count": 37,
   "metadata": {},
   "outputs": [
    {
     "data": {
      "text/plain": [
       "array([2., 2., 2.])"
      ]
     },
     "execution_count": 37,
     "metadata": {},
     "output_type": "execute_result"
    }
   ],
   "source": [
    "threetwos = 2.0*np.ones(3)\n",
    "threetwos"
   ]
  },
  {
   "cell_type": "code",
   "execution_count": 38,
   "metadata": {},
   "outputs": [
    {
     "ename": "ValueError",
     "evalue": "operands could not be broadcast together with shapes (3,4) (3,) ",
     "output_type": "error",
     "traceback": [
      "\u001b[0;31m---------------------------------------------------------------------------\u001b[0m",
      "\u001b[0;31mValueError\u001b[0m                                Traceback (most recent call last)",
      "\u001b[0;32m<ipython-input-38-d310043588e3>\u001b[0m in \u001b[0;36m<module>\u001b[0;34m\u001b[0m\n\u001b[0;32m----> 1\u001b[0;31m \u001b[0mmy_array2d\u001b[0m \u001b[0;34m+\u001b[0m \u001b[0mthreetwos\u001b[0m\u001b[0;34m\u001b[0m\u001b[0;34m\u001b[0m\u001b[0m\n\u001b[0m",
      "\u001b[0;31mValueError\u001b[0m: operands could not be broadcast together with shapes (3,4) (3,) "
     ]
    }
   ],
   "source": [
    "my_array2d + threetwos"
   ]
  },
  {
   "cell_type": "markdown",
   "metadata": {},
   "source": [
    "To put this in 2-D array form, we can use reshape:"
   ]
  },
  {
   "cell_type": "code",
   "execution_count": 39,
   "metadata": {},
   "outputs": [
    {
     "data": {
      "text/plain": [
       "array([[2.],\n",
       "       [2.],\n",
       "       [2.]])"
      ]
     },
     "execution_count": 39,
     "metadata": {},
     "output_type": "execute_result"
    }
   ],
   "source": [
    "threetwos.reshape(-1,1)"
   ]
  },
  {
   "cell_type": "markdown",
   "metadata": {},
   "source": [
    "Now we can have some broadcasting fun"
   ]
  },
  {
   "cell_type": "code",
   "execution_count": 40,
   "metadata": {},
   "outputs": [
    {
     "name": "stdout",
     "output_type": "stream",
     "text": [
      "[[ 1  2  3  4]\n",
      " [ 5  6  7  8]\n",
      " [ 9 10 11 12]]\n"
     ]
    },
    {
     "data": {
      "text/plain": [
       "array([[ 2.,  4.,  6.,  8.],\n",
       "       [10., 12., 14., 16.],\n",
       "       [18., 20., 22., 24.]])"
      ]
     },
     "execution_count": 40,
     "metadata": {},
     "output_type": "execute_result"
    }
   ],
   "source": [
    "print(my_array2d)\n",
    "my_array2d*threetwos.reshape(-1,1)"
   ]
  },
  {
   "cell_type": "markdown",
   "metadata": {},
   "source": [
    "You can transpose arrays"
   ]
  },
  {
   "cell_type": "code",
   "execution_count": 42,
   "metadata": {},
   "outputs": [
    {
     "data": {
      "text/plain": [
       "array([[ 1,  2,  3,  4],\n",
       "       [ 5,  6,  7,  8],\n",
       "       [ 9, 10, 11, 12]])"
      ]
     },
     "execution_count": 42,
     "metadata": {},
     "output_type": "execute_result"
    }
   ],
   "source": [
    "my_array2d"
   ]
  },
  {
   "cell_type": "code",
   "execution_count": 43,
   "metadata": {},
   "outputs": [
    {
     "data": {
      "text/plain": [
       "array([[ 1,  5,  9],\n",
       "       [ 2,  6, 10],\n",
       "       [ 3,  7, 11],\n",
       "       [ 4,  8, 12]])"
      ]
     },
     "execution_count": 43,
     "metadata": {},
     "output_type": "execute_result"
    }
   ],
   "source": [
    "my_array2d.T"
   ]
  },
  {
   "cell_type": "code",
   "execution_count": 44,
   "metadata": {},
   "outputs": [
    {
     "data": {
      "text/plain": [
       "array([[ 2., 10., 18.],\n",
       "       [ 4., 12., 20.],\n",
       "       [ 6., 14., 22.],\n",
       "       [ 8., 16., 24.]])"
      ]
     },
     "execution_count": 44,
     "metadata": {},
     "output_type": "execute_result"
    }
   ],
   "source": [
    "my_array2d.T*threetwos"
   ]
  },
  {
   "cell_type": "code",
   "execution_count": 45,
   "metadata": {},
   "outputs": [
    {
     "data": {
      "text/plain": [
       "array([[ 2.,  4.,  6.,  8.],\n",
       "       [10., 12., 14., 16.],\n",
       "       [18., 20., 22., 24.]])"
      ]
     },
     "execution_count": 45,
     "metadata": {},
     "output_type": "execute_result"
    }
   ],
   "source": [
    "new_array = my_array2d.T*threetwos\n",
    "new_array.T"
   ]
  },
  {
   "cell_type": "markdown",
   "metadata": {},
   "source": [
    "Reshape is very general"
   ]
  },
  {
   "cell_type": "code",
   "execution_count": 46,
   "metadata": {},
   "outputs": [
    {
     "data": {
      "text/plain": [
       "array([[ 1,  2,  3],\n",
       "       [ 4,  5,  6],\n",
       "       [ 7,  8,  9],\n",
       "       [10, 11, 12]])"
      ]
     },
     "execution_count": 46,
     "metadata": {},
     "output_type": "execute_result"
    }
   ],
   "source": [
    "my_array2d.reshape(4,3) #whats happening here?"
   ]
  },
  {
   "cell_type": "markdown",
   "metadata": {},
   "source": [
    "### What is probability?\n",
    "\n",
    "Suppose you were to flip a coin. Then you expect not to be able to say whether the next toss would yield a heads or a tails.  You might tell a friend that the odds of getting a heads is equal to to the odds of getting a tails, and that both are $1/2$.\n",
    "\n",
    "This intuitive notion of odds is a **probability**. It comes about because of our physical **model** of the world: say that because of our faith in the U.S. Mint, we might be willing to, without having seen any tosses, say that the coin is fair. In other words, there are two choices, both of which are equally likely.\n",
    "\n",
    "#### Symmetry \n",
    "\n",
    "Consider another example. If we were tossing a 'fair' six-sided dice, we may thus equivalently say that the odds of the dice falling on any one of its sides is $1/6$. Indeed if there are $C$ different equally likely possibilities, we'd expect that the probability of any one particular outcome would be $1/C$.\n",
    "\n",
    "The examples of the coin as well as the dice illustrate the notion of probability springing from **symmetry**. Here we think of probability of of the number 4 on the dice as the ratio:\n",
    "\n",
    "$$\\frac{Number\\: of\\: cases\\: for\\: number\\: 4}{number\\: of\\: possibilities} = \\frac{1}{6},$$\n",
    " assuming equally likely possibilities.\n",
    "\n",
    "In other words, the symmetry refers to the notion that when there are multiple ways for an event to happen, and that then we have an intuitive **model** of fairness between these ways that tells us that none of these are any more likely than the other. \n",
    "\n",
    "#### Probability from a model\n",
    "\n",
    "But now think of an event like an election, say a presidential election. You cant exactly run multiple trials of the election: its a one-off event. But you still want to talk about the likelyhood of a candidate winning. However people do make **models** of elections, based on inputs such as race, age, income, sampling polls, etc. They assign likeyhoods of candidates winning and run large numbers of **simulations** of the election, making predictions based on that. Forecasters like Nate Silver, Sam Wang, And Drew Linzer, made incredibly successfull predictions of the 2012 elections.\n",
    "\n",
    "Or consider what a weather forecaster means when he or she says there is a 90% chance of rain today. Presumably, this conclusion has been made from many computer **simulations** which take in the weather conditions known in the past, and propagated using physics to the current day. The simulations give different results based on the uncertainty in the measurement of past weather, and the inability of the physics to capture the phenomenon exactly (all physics is some approximation to the natural world). But 90% of these simulations show rain.\n",
    "\n",
    "In all of these cases, there is either a model (a fair coin, an election forecasting model, a weather differential equation), or an experiment ( a large number of coin tosses) that is used to **estimate** a probability, or the odds, of an **event** $E$ occuring. \n",
    "\n",
    "#### Combining models and observations\n",
    "\n",
    "In all of these cases, probability is something we speak of, for observations we are to make in the future. And it is something we assign, based on the *model* or belief of the world we have, or on the basis of past observations that we have made, or that we might even imagine that we would make.\n",
    "\n",
    "Consider some additional examples. You might ask the probability of the Yankees winning the next baseball game against the Red Sox. Or you might ask for the probability of a launch failure for the next missile protecting Tel-Aviv. These are not academic questions: lots of betting money and lives depend upon them respectively. In both cases there is some past data, and some other inputs such as say, weather conditions, which might be used to construct a model, which is then used to predict the fate of the next game or launch. \n",
    "\n",
    "They key takeaway is this: for some reasons, and possibly using some data, we have constructed a model of the universe. In other words, we have combined **prior** beliefs and past frequencies respectively. This notion of such combination is yet another notion of probability, called the **Bayesian** notion of probability. And we can now use this model to make predictions, such us the future odds of a particular event happening."
   ]
  },
  {
   "cell_type": "markdown",
   "metadata": {},
   "source": [
    "### Testing a model\n",
    "\n",
    "We can test this model by having carried out a large number of coin flips. You would do, or imagine doing, a large number of flips or **trials** $N$, and finding the number of times you got heads $N_H$. Then the probability of getting heads would be \n",
    "$$\\frac{N_H}{N}.$$\n",
    "\n",
    "#### Probability as frequency\n",
    "\n",
    "This is the notion of probability as a **relative frequency**: if there are multiple ways an **event** like the tossing of a coin can happen, lets look at multiple trials of the event and see the fraction of times one or other of these ways happened. "
   ]
  },
  {
   "cell_type": "markdown",
   "metadata": {},
   "source": [
    "#### Simulating the results of the model\n",
    "\n",
    "We dont have a coin right now. So let us **simulate** this process on a computer. To do this we will use a form of the **random number generator** built into `numpy`. In particular, we will use the function `np.random.choice`, which will with equal probability for all items pick an item from a list (thus if the list is of size 6, it will pick one of the six list items each time, with a probability 1/6). "
   ]
  },
  {
   "cell_type": "code",
   "execution_count": 52,
   "metadata": {},
   "outputs": [
    {
     "name": "stdout",
     "output_type": "stream",
     "text": [
      "Throws: H T H T T T H H H H T T H H H T T H H H H T T H H H T H H H H H T T T T H T T T\n",
      "Number of Heads: 22\n",
      "p1 = Number of Heads/Total Throws: 0.55\n"
     ]
    }
   ],
   "source": [
    "def throw_a_coin(N):\n",
    "    return np.random.choice(['H','T'], size=N)\n",
    "throws=throw_a_coin(40)\n",
    "print(\"Throws:\",\" \".join(throws))\n",
    "print(\"Number of Heads:\", np.sum(throws=='H'))\n",
    "print(\"p1 = Number of Heads/Total Throws:\", np.sum(throws=='H')/40.)"
   ]
  },
  {
   "cell_type": "code",
   "execution_count": 55,
   "metadata": {},
   "outputs": [
    {
     "data": {
      "text/plain": [
       "0.55"
      ]
     },
     "execution_count": 55,
     "metadata": {},
     "output_type": "execute_result"
    }
   ],
   "source": [
    "np.mean(throws == 'H')"
   ]
  },
  {
   "cell_type": "markdown",
   "metadata": {},
   "source": [
    "Notice that you do not necessarily get 20 heads.\n",
    "\n",
    "Now say that we run the entire process again, a second **replication** to obtain a second sample. Then we ask the same question: what is the fraction of heads we get this time? Lets call the odds of heads in sample 2, then, $p_2$:"
   ]
  },
  {
   "cell_type": "code",
   "execution_count": 59,
   "metadata": {},
   "outputs": [
    {
     "name": "stdout",
     "output_type": "stream",
     "text": [
      "Number of Heads: 20\n",
      "p1 = Number of Heads/Total Throws: 0.5\n"
     ]
    }
   ],
   "source": [
    "throws=throw_a_coin(40)\n",
    "print(\"Number of Heads:\", np.sum(throws=='H'))\n",
    "print(\"p1 = Number of Heads/Total Throws:\", np.sum(throws=='H')/40.)"
   ]
  },
  {
   "cell_type": "code",
   "execution_count": 60,
   "metadata": {},
   "outputs": [
    {
     "name": "stdout",
     "output_type": "stream",
     "text": [
      "Number of Heads: 4909\n",
      "p1 = Number of Heads/Total Throws: 0.4909\n"
     ]
    }
   ],
   "source": [
    "throws=throw_a_coin(10000)\n",
    "print(\"Number of Heads:\", np.sum(throws=='H'))\n",
    "print(\"p1 = Number of Heads/Total Throws:\", np.sum(throws=='H')/10000.)"
   ]
  },
  {
   "cell_type": "markdown",
   "metadata": {},
   "source": [
    "As you can see, the larger number of trials we do, the closer we seem to get to half the tosses showing up heads. Lets see this more systematically. We'll use `np.arange` which gives us a grid:"
   ]
  },
  {
   "cell_type": "code",
   "execution_count": 61,
   "metadata": {},
   "outputs": [
    {
     "data": {
      "text/plain": [
       "(array([0, 1, 2, 3, 4, 5, 6, 7, 8, 9]),\n",
       " array([10, 11, 12, 13, 14, 15, 16, 17, 18, 19]),\n",
       " array([10, 12, 14, 16, 18]))"
      ]
     },
     "execution_count": 61,
     "metadata": {},
     "output_type": "execute_result"
    }
   ],
   "source": [
    "np.arange(10), np.arange(10,20), np.arange(10,20, 2)"
   ]
  },
  {
   "cell_type": "markdown",
   "metadata": {},
   "source": [
    "We are going to do many more trials. Pay attention to the plotting commands as well."
   ]
  },
  {
   "cell_type": "code",
   "execution_count": 63,
   "metadata": {},
   "outputs": [
    {
     "name": "stdout",
     "output_type": "stream",
     "text": [
      "[ 1000  2000  3000  4000  5000  6000  7000  8000  9000 10000 11000 12000\n",
      " 13000 14000 15000 16000 17000 18000 19000 20000 21000 22000 23000 24000\n",
      " 25000 26000 27000 28000 29000 30000 31000 32000 33000 34000 35000 36000\n",
      " 37000 38000 39000]\n"
     ]
    },
    {
     "data": {
      "image/png": "[encoded data removed]",
      "text/plain": [
       "<Figure size 432x288 with 1 Axes>"
      ]
     },
     "metadata": {
      "needs_background": "light"
     },
     "output_type": "display_data"
    }
   ],
   "source": [
    "trials=np.arange(1000, 40000, 1000)\n",
    "print(trials)\n",
    "plt.plot(trials, [np.sum(throw_a_coin(j)=='H')/np.float(j) for j in trials], 'o-', alpha=0.2);\n",
    "plt.axhline(0.5, 0, 1, color='r');\n",
    "plt.xlabel('number of trials');\n",
    "plt.ylabel('probability of heads from simulation');\n",
    "plt.title('frequentist probability of heads');"
   ]
  },
  {
   "cell_type": "markdown",
   "metadata": {},
   "source": [
    "Thus, the true odds **fluctuate** about their long-run value of 0.5, in accordance with the model of a fair coin (which we encoded in our simulation by having `np.random.choice` choose between two possibilities with equal probability), with the fluctuations becoming much smaller (we shall talk a lot more about this later in the book). These **fluctations** are what give rise to probability distributions.\n",
    "\n",
    "Each finite length run is called a **sample**, which has been obtained from the **generative** model of our fair coin. Its called generative as we can use the model to generate, using simulation, a set of samples we can play with to understand a model. Such **simulation from a model** is a key technique which we will come back to again and again in learning from data."
   ]
  },
  {
   "cell_type": "markdown",
   "metadata": {},
   "source": [
    "### The rules of probability\n",
    "\n",
    "We have seen multiple notions of probability so far. One might assign probabilities based on symmetry, for eg, 2 sides of a fair coin, or six sides of a fair dice. One might assign probabilities based on doing an experiment. such as the long run number of heads in many coin flips. One might assign probabilities based on beliefs; and one might even assign probabilities to events that have no chance of repeating, such as the 2012 presidential election, or the probability of rain between 2pm and 6pm today.\n",
    "\n",
    "Thus, the very definition of probability seems to be wishy-washy and subjective. Thus you might wonder how you might work with such probabilities. For this, we turn to the rules of probability.\n",
    "\n",
    "The rules dont care where our probabilities come from, as to how we estimated them, as long as they behave in intuitively sensible ways. \n",
    "\n",
    "Consider an example: \n",
    "\n",
    "E is the event of getting a heads in a first coin toss, and F is the same for a second coin toss. Here $\\Omega$, the set of all possibilities that can happen when you toss two coins is $\\{HH, HT, TH, TT\\}$. Since E only specifies that the first toss is heads, $E=\\{HT, HH\\}$. Similarly $F= {HH, TH}$ The set of all events that are not E then is $\\tilde{E} = {TH, TT}$.\n",
    "\n",
    "These sets, along with some others are captured in the venn diagram below:\n",
    "\n",
    "![2 coin toss venn diagram](images/venn.png) \n",
    "\n",
    "The critical notions of probability are:\n",
    "\n",
    "**Something must happen**\n",
    "\n",
    "$$P(\\Omega) =1$$\n",
    "\n",
    "**Complementary events must have probabilities summing to 1**\n",
    "\n",
    "Either E happened or didnt. So,\n",
    "\n",
    "$$P(E) + P(\\sim E) = 1$$\n",
    "\n",
    "**The Multiply/And/Intersection Formula for independent events**: If E and F are independent events, the probability of both events happening together $P(EF)$ or $P(E \\cap F)$ (read as E and F or E intersection F, respectively) is the multiplication of the individual probabilities.\n",
    "\n",
    "$$ P(EF) = P(E) P(F) .$$\n",
    "\n",
    "If you made the two independent coin tosses in our example, and you had a fair coin, the probability of both coming up heads is $(1/2)*(1/2) = 1/4$. This makes intuitive sense: half the time the first coin comes up heads, and then 1/2 the time the second coin comes up heads, so its 1/4 of the times that both come up heads.\n",
    "\n",
    "\n",
    "**The Plus/Or/Union Formula** \n",
    "\n",
    "We can now ask the question, what is $P(E+F)$, the odds of E alone, F alone, or both together. Translated into English, we are asking, whats the probability that only the first toss was heads, or only the second toss was heads, or that both came up heads?  Or in other words, what are the odds of at least one heads? The answer to this question is given by the rule:\n",
    "\n",
    "$$P(E+F) = P(E) + P(F) - P(EF),$$ \n",
    "\n",
    "the \"plus\" formula, where E+F, read as E or F (also $E \\cup F$, reads as E union F) means \"E alone, F alone, **or** both together\". This rule is a hard one to understand and has a lot of notation, so lets examine it in some detail.\n",
    "\n",
    "There are four ways that these two tosses can arrange themselves, as illustrated by this diagram.\n",
    "\n",
    "![2 coin flips](images/2flips.png) \n",
    "\n",
    "We can have a HH, HT, TH, or TT. In three out of 4 of these cases, either the first toss was heads, or the second was heads. Thus $P(E+F)=3/4$. \n",
    "\n",
    "The formula says, add the odds that \"the first toss was a heads, without worrying about the second one (1/2), to the probability that the second toss was a heads, without worrying about the first one\" (1/2). Since this double counts the situation where both are heads; subtract that (1/4):\n",
    "\n",
    "\\begin{eqnarray*}\n",
    "P(E+F) \\, & = &\\, P(E) + P(F) - P(EF)\\\\\n",
    "\\frac{3}{4} \\, & = &\\, \\frac{1}{2} + \\frac{1}{2} - \\frac{1}{4} \n",
    "\\end{eqnarray*}\n"
   ]
  },
  {
   "cell_type": "markdown",
   "metadata": {},
   "source": [
    "### A simple Election Model\n",
    "\n",
    "In the last section, we made a simple simulation of a coin-toss on the computer from a fair-coin model which associated equal probability with heads and tails. Let us consider another model here, a table of probabilities that [PredictWise](http://www.predictwise.com/results/2012/president) made on October 2, 2012 for the US presidential elections. \n",
    "PredictWise aggregated polling data and, for each state, estimated the probability that the Obama or Romney would win. Here are those estimated probabilities:"
   ]
  },
  {
   "cell_type": "code",
   "execution_count": 67,
   "metadata": {},
   "outputs": [
    {
     "data": {
      "text/html": [
       "<div>\n",
       "<style scoped>\n",
       "    .dataframe tbody tr th:only-of-type {\n",
       "        vertical-align: middle;\n",
       "    }\n",
       "\n",
       "    .dataframe tbody tr th {\n",
       "        vertical-align: top;\n",
       "    }\n",
       "\n",
       "    .dataframe thead th {\n",
       "        text-align: right;\n",
       "    }\n",
       "</style>\n",
       "<table border=\"1\" class=\"dataframe\">\n",
       "  <thead>\n",
       "    <tr style=\"text-align: right;\">\n",
       "      <th></th>\n",
       "      <th>Obama</th>\n",
       "      <th>Romney</th>\n",
       "      <th>Votes</th>\n",
       "    </tr>\n",
       "    <tr>\n",
       "      <th>States</th>\n",
       "      <th></th>\n",
       "      <th></th>\n",
       "      <th></th>\n",
       "    </tr>\n",
       "  </thead>\n",
       "  <tbody>\n",
       "    <tr>\n",
       "      <th>Alabama</th>\n",
       "      <td>0.000</td>\n",
       "      <td>1.000</td>\n",
       "      <td>9</td>\n",
       "    </tr>\n",
       "    <tr>\n",
       "      <th>Alaska</th>\n",
       "      <td>0.000</td>\n",
       "      <td>1.000</td>\n",
       "      <td>3</td>\n",
       "    </tr>\n",
       "    <tr>\n",
       "      <th>Arizona</th>\n",
       "      <td>0.062</td>\n",
       "      <td>0.938</td>\n",
       "      <td>11</td>\n",
       "    </tr>\n",
       "    <tr>\n",
       "      <th>Arkansas</th>\n",
       "      <td>0.000</td>\n",
       "      <td>1.000</td>\n",
       "      <td>6</td>\n",
       "    </tr>\n",
       "    <tr>\n",
       "      <th>California</th>\n",
       "      <td>1.000</td>\n",
       "      <td>0.000</td>\n",
       "      <td>55</td>\n",
       "    </tr>\n",
       "  </tbody>\n",
       "</table>\n",
       "</div>"
      ],
      "text/plain": [
       "            Obama  Romney  Votes\n",
       "States                          \n",
       "Alabama     0.000   1.000      9\n",
       "Alaska      0.000   1.000      3\n",
       "Arizona     0.062   0.938     11\n",
       "Arkansas    0.000   1.000      6\n",
       "California  1.000   0.000     55"
      ]
     },
     "execution_count": 67,
     "metadata": {},
     "output_type": "execute_result"
    }
   ],
   "source": [
    "predictwise = pd.read_csv('data/predictwise.csv').set_index('States')\n",
    "predictwise.head()"
   ]
  },
  {
   "cell_type": "markdown",
   "metadata": {},
   "source": [
    "Each row is the probability predicted by Predictwise that Romney or Obama would win a state. The votes column lists the number of electoral college votes in that state. \n",
    "\n",
    "Remember that simulation is used in different ways in the modelling process. Simulations might be used to propagate differential equations which describe the weather from different initial conditions. In this case they are used to create the model. In the coin flips case, they are used to illustrate the predictions of the model of a fair coin. This example is in the same spirit: we are given a (somehow obtained) list of win probabilities for the states of the US. \n",
    "Later on in this book we will explore some approaches to estimating probabilities like these and quatifying our uncertainty about them. But for the time being, we will focus on how to make a prediction assuming these probabilities are known.\n",
    "\n",
    "Lets plot a map of the probability that Obama wins each state, according to this prediction."
   ]
  },
  {
   "cell_type": "code",
   "execution_count": 70,
   "metadata": {
    "figure_type": "w"
   },
   "outputs": [
    {
     "data": {
      "image/png": "[encoded data removed]",
      "text/plain": [
       "<Figure size 864x648 with 2 Axes>"
      ]
     },
     "metadata": {
      "needs_background": "light"
     },
     "output_type": "display_data"
    }
   ],
   "source": [
    "from statesplot import make_map, load_states_geom\n",
    "s2p = load_states_geom(\"data/us-states.json\")\n",
    "make_map(s2p, predictwise.Obama, \"P(Obama): PredictWise\");"
   ]
  },
  {
   "cell_type": "markdown",
   "metadata": {},
   "source": [
    "You might be tempted from seeing this map to wonder why Romney ever thought he would win this election. But lets be patient: remember these are just probabilities, and this is our model of the election as of October 12th, 2012.\n",
    "\n",
    "In the case of the tossed coins, even though we had a model which said that the probability of heads was 0.5, there were sequences of flips in which more or less than half the flips were heads. Similarly, here, if the probability of Romney winning in Arizona is 0.938, it means that if somehow, there were 1000 replications with an election each, Romney would win in 938 of those Arizonas **on the average** across the replications. And there would be some samples with Romney winning more, and some with less. We can run these **simulated** universes on a computer though not in real life.\n",
    "\n",
    "#### Simulating the model\n",
    "\n",
    "To do this, \n",
    "we will assume that the outcome in each state is the result of an independent coin flip whose probability of coming up Obama is given by the Predictwise state-wise win probabilities. Lets write a function `simulate_election` that uses this **predictive model** to simulate the outcome of the election given a table of probabilities.\n",
    "\n",
    "In the code below, each column simulates a single outcome from the 50 states + DC by choosing a random number between 0 and 1. Obama wins that simulation if the random number is $<$ the win probability. If he wins that simulation, we add in the electoral votes for that state, otherwise we dont. We do this `n_sim` times and return a list of total Obama electoral votes in each simulation."
   ]
  },
  {
   "cell_type": "markdown",
   "metadata": {},
   "source": [
    "Lets unpack this function a bit, as a lot goes on.\n",
    "\n",
    "First we decide to make, say 100 simulations. We'll create 51 rows of 100 random numbers (100 columns) between 0 and 1"
   ]
  },
  {
   "cell_type": "code",
   "execution_count": 75,
   "metadata": {},
   "outputs": [
    {
     "name": "stdout",
     "output_type": "stream",
     "text": [
      "(51, 1000)\n"
     ]
    },
    {
     "data": {
      "text/plain": [
       "array([[0.53134416, 0.56996539, 0.5492623 , ..., 0.93182539, 0.88791672,\n",
       "        0.73343024],\n",
       "       [0.32801585, 0.11524048, 0.46265469, ..., 0.23941822, 0.73394048,\n",
       "        0.22493811],\n",
       "       [0.2004595 , 0.04558372, 0.26343501, ..., 0.10352802, 0.03956542,\n",
       "        0.85300231],\n",
       "       ...,\n",
       "       [0.73419605, 0.23255737, 0.26518078, ..., 0.82063923, 0.51258381,\n",
       "        0.72676837],\n",
       "       [0.79172854, 0.65460619, 0.28299261, ..., 0.4157214 , 0.11305673,\n",
       "        0.75775159],\n",
       "       [0.58571731, 0.06540026, 0.68685106, ..., 0.57202624, 0.05841744,\n",
       "        0.69285077]])"
      ]
     },
     "execution_count": 75,
     "metadata": {},
     "output_type": "execute_result"
    }
   ],
   "source": [
    "sims = np.random.uniform(size=(51, 1000))\n",
    "print(sims.shape)\n",
    "sims"
   ]
  },
  {
   "cell_type": "markdown",
   "metadata": {},
   "source": [
    "Now, consider the sixth row, or sixth state, Colorado"
   ]
  },
  {
   "cell_type": "code",
   "execution_count": 76,
   "metadata": {},
   "outputs": [
    {
     "name": "stdout",
     "output_type": "stream",
     "text": [
      "Obama     0.807\n",
      "Romney    0.193\n",
      "Votes     9.000\n",
      "Name: Colorado, dtype: float64\n"
     ]
    },
    {
     "data": {
      "text/plain": [
       "array([0.98650351, 0.82054846, 0.461374  , 0.29026108, 0.83389893,\n",
       "       0.52643468, 0.42641096, 0.59241702, 0.06427046, 0.71099236,\n",
       "       0.74662303, 0.16990023, 0.82082607, 0.69657732, 0.13188824,\n",
       "       0.13737326, 0.52320272, 0.5780277 , 0.16412428, 0.59566069,\n",
       "       0.54117236, 0.08371007, 0.77218873, 0.49883512, 0.43741908,\n",
       "       0.22675707, 0.9423518 , 0.72030534, 0.58945596, 0.22082626,\n",
       "       0.64102435, 0.84219523, 0.8796234 , 0.45881446, 0.40731474,\n",
       "       0.4410135 , 0.52268021, 0.64378451, 0.83161556, 0.95626634,\n",
       "       0.47793335, 0.53597445, 0.35837286, 0.00912429, 0.24830693,\n",
       "       0.37630757, 0.34979884, 0.59468228, 0.09950078, 0.37621585,\n",
       "       0.30661074, 0.05636292, 0.25832683, 0.77008298, 0.22692632,\n",
       "       0.5392979 , 0.00868849, 0.98424472, 0.38171131, 0.31670149,\n",
       "       0.67273699, 0.8285215 , 0.67296656, 0.32857633, 0.7432632 ,\n",
       "       0.7133736 , 0.13348354, 0.99961041, 0.65559348, 0.09067054,\n",
       "       0.816465  , 0.49048083, 0.26620781, 0.23053915, 0.81409742,\n",
       "       0.00640079, 0.88520758, 0.32246458, 0.46051426, 0.04979198,\n",
       "       0.96572357, 0.70731329, 0.14266484, 0.75721919, 0.64392745,\n",
       "       0.44613507, 0.83505366, 0.30862737, 0.92130405, 0.97409159,\n",
       "       0.02770368, 0.19530223, 0.87376313, 0.19082929, 0.02280287,\n",
       "       0.40084353, 0.27462284, 0.77350635, 0.97023666, 0.01973975,\n",
       "       0.7490623 , 0.03461658, 0.72874774, 0.55473109, 0.90721563,\n",
       "       0.09394801, 0.51807583, 0.60677762, 0.32174061, 0.74923712,\n",
       "       0.57884331, 0.30290422, 0.19733273, 0.11123614, 0.56436054,\n",
       "       0.7131335 , 0.54460595, 0.41950287, 0.34903523, 0.22840998,\n",
       "       0.72363004, 0.06396033, 0.00239024, 0.78437358, 0.40425314,\n",
       "       0.43822857, 0.65303397, 0.25531765, 0.69326178, 0.34373417,\n",
       "       0.23425862, 0.53288026, 0.91059751, 0.92664922, 0.15069888,\n",
       "       0.47905762, 0.38004304, 0.6360057 , 0.19795299, 0.24711632,\n",
       "       0.55276471, 0.26234059, 0.3207352 , 0.69686315, 0.44492684,\n",
       "       0.85528217, 0.14379431, 0.03441097, 0.33054618, 0.9652713 ,\n",
       "       0.92535027, 0.29335589, 0.43961258, 0.24118234, 0.31274505,\n",
       "       0.81882809, 0.35191999, 0.77555233, 0.44816688, 0.11162089,\n",
       "       0.29551853, 0.03505359, 0.50454357, 0.21892116, 0.4957818 ,\n",
       "       0.29837503, 0.90625582, 0.12201083, 0.60547771, 0.51394714,\n",
       "       0.80598835, 0.89052419, 0.60880185, 0.13838526, 0.60776371,\n",
       "       0.0885946 , 0.41905305, 0.11344224, 0.96211633, 0.09626923,\n",
       "       0.29371507, 0.05372294, 0.67942348, 0.57806004, 0.36727391,\n",
       "       0.88995286, 0.63200972, 0.26989995, 0.83305448, 0.71289421,\n",
       "       0.7116743 , 0.7172419 , 0.86679514, 0.97917815, 0.31513786,\n",
       "       0.35753018, 0.1117023 , 0.08033759, 0.18321998, 0.95485437,\n",
       "       0.20108937, 0.34333294, 0.54451878, 0.62364296, 0.53309944,\n",
       "       0.15836853, 0.16384535, 0.85791417, 0.98509214, 0.94832216,\n",
       "       0.45619649, 0.51296523, 0.14374199, 0.28616168, 0.41891555,\n",
       "       0.07739357, 0.68735208, 0.20172432, 0.32526341, 0.87981418,\n",
       "       0.62255322, 0.24807784, 0.89080507, 0.30253964, 0.44873108,\n",
       "       0.88735817, 0.46255657, 0.75313064, 0.41121453, 0.24910558,\n",
       "       0.4253466 , 0.70101243, 0.56228251, 0.21818096, 0.51485766,\n",
       "       0.71474861, 0.06456183, 0.64788091, 0.04397213, 0.1434396 ,\n",
       "       0.58082046, 0.10737479, 0.39723025, 0.20696982, 0.38068389,\n",
       "       0.57499312, 0.84895815, 0.48440771, 0.01654509, 0.08608683,\n",
       "       0.82585215, 0.2252727 , 0.16978908, 0.91805608, 0.97734028,\n",
       "       0.70957968, 0.6636661 , 0.37776993, 0.32503448, 0.69498735,\n",
       "       0.93902428, 0.62746337, 0.80330276, 0.40062013, 0.39128812,\n",
       "       0.1271243 , 0.3412749 , 0.00371693, 0.57130941, 0.53747167,\n",
       "       0.37745783, 0.60603564, 0.38467988, 0.56268449, 0.93210848,\n",
       "       0.74955061, 0.3022408 , 0.4378489 , 0.12288007, 0.8866033 ,\n",
       "       0.64690005, 0.00553512, 0.78474231, 0.61488964, 0.10276571,\n",
       "       0.45354019, 0.6000798 , 0.0906993 , 0.83509113, 0.06014224,\n",
       "       0.00395628, 0.19138417, 0.2571755 , 0.64172681, 0.36568172,\n",
       "       0.73084266, 0.15159076, 0.87200692, 0.69315958, 0.04425294,\n",
       "       0.56123552, 0.79574347, 0.10316517, 0.50722391, 0.44827816,\n",
       "       0.67345572, 0.4185339 , 0.429389  , 0.77132281, 0.98818326,\n",
       "       0.11339788, 0.41685156, 0.22349527, 0.15336695, 0.23027765,\n",
       "       0.48182586, 0.58738756, 0.22415486, 0.97970041, 0.21983885,\n",
       "       0.74077084, 0.7303382 , 0.64500477, 0.73653732, 0.46493818,\n",
       "       0.69864383, 0.92520216, 0.39864646, 0.88633961, 0.67568188,\n",
       "       0.92769067, 0.55587974, 0.58570437, 0.25725191, 0.96220265,\n",
       "       0.31651273, 0.10284828, 0.10914598, 0.6751455 , 0.36113349,\n",
       "       0.10772805, 0.75263247, 0.2746481 , 0.34688001, 0.32805913,\n",
       "       0.75754099, 0.97195677, 0.87670322, 0.73339916, 0.20128878,\n",
       "       0.08077137, 0.58919893, 0.57865215, 0.30892408, 0.04733015,\n",
       "       0.50440212, 0.41853625, 0.25779082, 0.95264928, 0.71890912,\n",
       "       0.73099819, 0.4193327 , 0.41433319, 0.79612133, 0.22121007,\n",
       "       0.79009948, 0.2588819 , 0.14018613, 0.2769384 , 0.1413603 ,\n",
       "       0.45594012, 0.62081788, 0.00634079, 0.66594048, 0.7031791 ,\n",
       "       0.01892799, 0.26207241, 0.55377262, 0.41152671, 0.82686029,\n",
       "       0.35987875, 0.05514235, 0.77189985, 0.42221593, 0.19536032,\n",
       "       0.65976611, 0.43102791, 0.031065  , 0.91501199, 0.46026627,\n",
       "       0.86234537, 0.04247091, 0.30302948, 0.22506459, 0.86858155,\n",
       "       0.60855602, 0.6272513 , 0.86114682, 0.55460466, 0.57717891,\n",
       "       0.89236701, 0.86916274, 0.05760821, 0.62732881, 0.18414358,\n",
       "       0.6687945 , 0.61433602, 0.48290115, 0.64517244, 0.61020259,\n",
       "       0.13082777, 0.1372591 , 0.79070786, 0.72848742, 0.60472959,\n",
       "       0.76201742, 0.29361739, 0.63821029, 0.51351879, 0.83046318,\n",
       "       0.76631175, 0.64599356, 0.6642453 , 0.59084002, 0.8879396 ,\n",
       "       0.14229154, 0.58840635, 0.2697589 , 0.79954471, 0.6865405 ,\n",
       "       0.16091687, 0.15194188, 0.93999844, 0.78589169, 0.98560445,\n",
       "       0.12977128, 0.47774715, 0.14017587, 0.87902498, 0.32537401,\n",
       "       0.71622051, 0.04654773, 0.34731723, 0.4141955 , 0.54849304,\n",
       "       0.1209107 , 0.17794958, 0.23592755, 0.32160551, 0.58957451,\n",
       "       0.29799099, 0.8068529 , 0.82780069, 0.0058026 , 0.40926138,\n",
       "       0.1470319 , 0.78246574, 0.4523171 , 0.36932756, 0.62314502,\n",
       "       0.31213253, 0.06240457, 0.41524273, 0.872317  , 0.41349252,\n",
       "       0.265246  , 0.40989301, 0.98215507, 0.52056975, 0.19507355,\n",
       "       0.37954976, 0.59494698, 0.14978975, 0.61323982, 0.15534987,\n",
       "       0.21124987, 0.85804295, 0.44682881, 0.72736034, 0.64567825,\n",
       "       0.65442675, 0.28292931, 0.45654084, 0.30424994, 0.95535882,\n",
       "       0.61435773, 0.4200765 , 0.8577818 , 0.77121502, 0.61865649,\n",
       "       0.87713466, 0.13975337, 0.06330056, 0.46548501, 0.12894507,\n",
       "       0.91483166, 0.18984359, 0.85113606, 0.0492671 , 0.10114484,\n",
       "       0.79348528, 0.14214123, 0.71989011, 0.9430282 , 0.11943362,\n",
       "       0.19148063, 0.63409967, 0.59860783, 0.88404507, 0.97016036,\n",
       "       0.09593799, 0.16584756, 0.34297322, 0.66369461, 0.37113872,\n",
       "       0.02909535, 0.99764003, 0.12383168, 0.73428078, 0.1968571 ,\n",
       "       0.95492074, 0.91848601, 0.33155055, 0.50744414, 0.71283901,\n",
       "       0.7293833 , 0.29515204, 0.56315921, 0.17705301, 0.33566457,\n",
       "       0.87444427, 0.4758238 , 0.59256475, 0.82211107, 0.47597711,\n",
       "       0.90494032, 0.3712091 , 0.75632091, 0.61935432, 0.36969013,\n",
       "       0.62858236, 0.02384254, 0.22083983, 0.84646258, 0.30708271,\n",
       "       0.29127602, 0.05414198, 0.92567827, 0.514321  , 0.8179014 ,\n",
       "       0.94745568, 0.79626434, 0.41106878, 0.13391702, 0.26708894,\n",
       "       0.36930247, 0.19454855, 0.43146756, 0.27619788, 0.71153741,\n",
       "       0.22302711, 0.68612933, 0.71769342, 0.45026954, 0.46950784,\n",
       "       0.4247251 , 0.259483  , 0.89697125, 0.63099837, 0.01014147,\n",
       "       0.35891485, 0.88438239, 0.08438713, 0.00259905, 0.73253749,\n",
       "       0.76600259, 0.94562736, 0.41235023, 0.6368755 , 0.5132394 ,\n",
       "       0.23573503, 0.6120039 , 0.89135616, 0.10467105, 0.27426776,\n",
       "       0.91084433, 0.69241097, 0.07937383, 0.92505364, 0.59060148,\n",
       "       0.34613279, 0.82568642, 0.36970653, 0.86852545, 0.93013407,\n",
       "       0.14423291, 0.69067264, 0.90724013, 0.3304367 , 0.51572225,\n",
       "       0.85161715, 0.41479707, 0.4414146 , 0.61887804, 0.29105294,\n",
       "       0.53877405, 0.47797793, 0.0246996 , 0.24740123, 0.47743651,\n",
       "       0.76649786, 0.64742654, 0.38759885, 0.70404289, 0.49517169,\n",
       "       0.08897315, 0.93695066, 0.98479923, 0.92456408, 0.30647145,\n",
       "       0.04818283, 0.17099558, 0.69543641, 0.89418968, 0.3259108 ,\n",
       "       0.06103612, 0.38344831, 0.41673706, 0.64789451, 0.96334929,\n",
       "       0.76100835, 0.18794712, 0.30931154, 0.74017373, 0.3197718 ,\n",
       "       0.03204465, 0.77829524, 0.7342929 , 0.88279667, 0.98391314,\n",
       "       0.13090783, 0.83117473, 0.71027781, 0.71663964, 0.90354092,\n",
       "       0.09825281, 0.11409971, 0.41167079, 0.03247612, 0.48515919,\n",
       "       0.97902242, 0.69174506, 0.52959837, 0.66560104, 0.68011873,\n",
       "       0.47499328, 0.67948468, 0.01696649, 0.69314701, 0.83162929,\n",
       "       0.55583425, 0.07730252, 0.32331094, 0.62621183, 0.2264851 ,\n",
       "       0.47947179, 0.24683799, 0.64617018, 0.39029177, 0.19914748,\n",
       "       0.39779163, 0.95681645, 0.30425977, 0.02183604, 0.8407664 ,\n",
       "       0.5638915 , 0.13187248, 0.89309161, 0.30670643, 0.66970011,\n",
       "       0.71118109, 0.15437519, 0.75783263, 0.45236221, 0.74445109,\n",
       "       0.46849385, 0.78223956, 0.74731525, 0.58284577, 0.3917338 ,\n",
       "       0.02576848, 0.43776099, 0.19631113, 0.68181187, 0.68389529,\n",
       "       0.13830383, 0.17623715, 0.82129563, 0.13414455, 0.27398503,\n",
       "       0.34151762, 0.65554703, 0.85467263, 0.39554804, 0.03963487,\n",
       "       0.20360694, 0.16292705, 0.76019329, 0.4192577 , 0.56162492,\n",
       "       0.63408856, 0.49110353, 0.48815136, 0.32740204, 0.43272992,\n",
       "       0.47354993, 0.03806625, 0.09906511, 0.59126949, 0.03685949,\n",
       "       0.39612543, 0.7955321 , 0.81895978, 0.06401406, 0.07351451,\n",
       "       0.76845529, 0.7650253 , 0.77201906, 0.78249882, 0.67291064,\n",
       "       0.20709768, 0.5172527 , 0.07159221, 0.47119471, 0.21794707,\n",
       "       0.41582726, 0.21911049, 0.55910397, 0.78229346, 0.96788315,\n",
       "       0.26333984, 0.94659142, 0.79880382, 0.96507945, 0.64652136,\n",
       "       0.48231691, 0.97938758, 0.99928633, 0.03296855, 0.38663058,\n",
       "       0.94189552, 0.53901902, 0.73670188, 0.33167317, 0.3578567 ,\n",
       "       0.08476852, 0.90784626, 0.85888746, 0.27063673, 0.16288849,\n",
       "       0.01080919, 0.46824956, 0.24773512, 0.47660806, 0.37355616,\n",
       "       0.21128217, 0.10240548, 0.32757355, 0.58483921, 0.46639803,\n",
       "       0.86420213, 0.74349582, 0.90069787, 0.51981284, 0.62554935,\n",
       "       0.23263399, 0.38707474, 0.43633672, 0.25508462, 0.08615125,\n",
       "       0.73570204, 0.70811611, 0.38997449, 0.12488546, 0.43353089,\n",
       "       0.05438255, 0.12177483, 0.42886658, 0.24422531, 0.08462371,\n",
       "       0.41533307, 0.73562979, 0.19603422, 0.55701913, 0.63835091,\n",
       "       0.81358803, 0.50053045, 0.32614579, 0.47388088, 0.91404462,\n",
       "       0.5452817 , 0.7254655 , 0.94186758, 0.0827781 , 0.53059161,\n",
       "       0.70408246, 0.2464207 , 0.88204508, 0.40768159, 0.82662408,\n",
       "       0.12624331, 0.85374092, 0.9668515 , 0.77087469, 0.32327821,\n",
       "       0.90109728, 0.24603033, 0.18960954, 0.08109706, 0.65792882,\n",
       "       0.42422495, 0.62081083, 0.73117968, 0.21368279, 0.12126761,\n",
       "       0.54804518, 0.34762497, 0.71756798, 0.45646358, 0.27629071,\n",
       "       0.87785008, 0.28499754, 0.02442439, 0.87737886, 0.55483223,\n",
       "       0.35323694, 0.83321113, 0.2206888 , 0.60511678, 0.56085706,\n",
       "       0.01714118, 0.35070541, 0.68528598, 0.41040332, 0.59965299,\n",
       "       0.00370255, 0.95627988, 0.27325249, 0.09087595, 0.23849356,\n",
       "       0.38500491, 0.04699171, 0.24750621, 0.63810641, 0.86026929,\n",
       "       0.8957805 , 0.61373723, 0.34828172, 0.41161281, 0.96929826,\n",
       "       0.4196741 , 0.13022852, 0.70046819, 0.93657679, 0.54322722,\n",
       "       0.80366974, 0.27757119, 0.30483938, 0.4296838 , 0.78389741,\n",
       "       0.5599732 , 0.23511603, 0.60265149, 0.29045815, 0.48279191,\n",
       "       0.12979139, 0.56426495, 0.04569065, 0.89406123, 0.32038759,\n",
       "       0.17611792, 0.4222247 , 0.07845774, 0.98739318, 0.24218608,\n",
       "       0.10762253, 0.10500061, 0.54760997, 0.04840897, 0.45023599,\n",
       "       0.34147937, 0.5365718 , 0.48435288, 0.33182626, 0.15543795,\n",
       "       0.17589788, 0.27864116, 0.91831807, 0.98521523, 0.60907941,\n",
       "       0.53415735, 0.50091812, 0.68864019, 0.46523228, 0.89264352,\n",
       "       0.75238557, 0.43336872, 0.83661015, 0.07887496, 0.84765237,\n",
       "       0.7967133 , 0.55410284, 0.79385044, 0.86489995, 0.52223178,\n",
       "       0.91169213, 0.49566875, 0.86684284, 0.06446747, 0.48453314,\n",
       "       0.64203787, 0.90419279, 0.41295175, 0.65900498, 0.16823446,\n",
       "       0.89541229, 0.40671499, 0.95750088, 0.74657557, 0.6838396 ,\n",
       "       0.94412694, 0.55923036, 0.93161962, 0.27895964, 0.50166651,\n",
       "       0.4515421 , 0.09185424, 0.25990848, 0.15509882, 0.31888447,\n",
       "       0.11017761, 0.85741798, 0.72279701, 0.24133582, 0.01392032,\n",
       "       0.03552641, 0.41928067, 0.35852309, 0.95816314, 0.69762812,\n",
       "       0.59643426, 0.18631478, 0.78906173, 0.06420211, 0.09335162,\n",
       "       0.64364604, 0.80571479, 0.32407662, 0.74640028, 0.29655224,\n",
       "       0.75526786, 0.54612793, 0.186888  , 0.0871183 , 0.13957926,\n",
       "       0.80294721, 0.83496413, 0.63400489, 0.09258532, 0.23247189,\n",
       "       0.36238326, 0.48411669, 0.80623637, 0.54916311, 0.0604238 ,\n",
       "       0.57376684, 0.10742304, 0.68583277, 0.27549105, 0.10308862,\n",
       "       0.81748768, 0.56213669, 0.77943847, 0.46349885, 0.92817425,\n",
       "       0.55833282, 0.81944035, 0.84175944, 0.79993297, 0.4613801 ,\n",
       "       0.44730251, 0.51607923, 0.28313097, 0.90519077, 0.14038454,\n",
       "       0.35452741, 0.95800638, 0.79709173, 0.26238363, 0.78425832])"
      ]
     },
     "execution_count": 76,
     "metadata": {},
     "output_type": "execute_result"
    }
   ],
   "source": [
    "print(predictwise.iloc[5])\n",
    "sims[5,:]"
   ]
  },
  {
   "cell_type": "markdown",
   "metadata": {},
   "source": [
    "With an Obama probability of about 0.8, This means that if I threw down random numbers between 0 and 1 **uniformly**, about 80% should be below 0.8. So we can pick the simulations in which Obama wins Colorado by seeing in how many of the simulations the random number thrown is less than 0.8"
   ]
  },
  {
   "cell_type": "code",
   "execution_count": 77,
   "metadata": {},
   "outputs": [
    {
     "data": {
      "text/plain": [
       "array([False, False,  True,  True, False,  True,  True,  True,  True,\n",
       "        True,  True,  True, False,  True,  True,  True,  True,  True,\n",
       "        True,  True,  True,  True,  True,  True,  True,  True, False,\n",
       "        True,  True,  True,  True, False, False,  True,  True,  True,\n",
       "        True,  True, False, False,  True,  True,  True,  True,  True,\n",
       "        True,  True,  True,  True,  True,  True,  True,  True,  True,\n",
       "        True,  True,  True, False,  True,  True,  True, False,  True,\n",
       "        True,  True,  True,  True, False,  True,  True, False,  True,\n",
       "        True,  True, False,  True, False,  True,  True,  True, False,\n",
       "        True,  True,  True,  True,  True, False,  True, False, False,\n",
       "        True,  True, False,  True,  True,  True,  True,  True, False,\n",
       "        True,  True,  True,  True,  True, False,  True,  True,  True,\n",
       "        True,  True,  True,  True,  True,  True,  True,  True,  True,\n",
       "        True,  True,  True,  True,  True,  True,  True,  True,  True,\n",
       "        True,  True,  True,  True,  True,  True, False, False,  True,\n",
       "        True,  True,  True,  True,  True,  True,  True,  True,  True,\n",
       "        True, False,  True,  True,  True, False, False,  True,  True,\n",
       "        True,  True, False,  True,  True,  True,  True,  True,  True,\n",
       "        True,  True,  True,  True, False,  True,  True,  True,  True,\n",
       "       False,  True,  True,  True,  True,  True,  True, False,  True,\n",
       "        True,  True,  True,  True,  True, False,  True,  True, False,\n",
       "        True,  True,  True, False, False,  True,  True,  True,  True,\n",
       "        True, False,  True,  True,  True,  True,  True,  True,  True,\n",
       "       False, False, False,  True,  True,  True,  True,  True,  True,\n",
       "        True,  True,  True, False,  True,  True, False,  True,  True,\n",
       "       False,  True,  True,  True,  True,  True,  True,  True,  True,\n",
       "        True,  True,  True,  True,  True,  True,  True,  True,  True,\n",
       "        True,  True,  True, False,  True,  True,  True, False,  True,\n",
       "        True, False, False,  True,  True,  True,  True,  True, False,\n",
       "        True,  True,  True,  True,  True,  True,  True,  True,  True,\n",
       "        True,  True,  True,  True, False,  True,  True,  True,  True,\n",
       "       False,  True,  True,  True,  True,  True,  True,  True,  True,\n",
       "       False,  True,  True,  True,  True,  True,  True,  True,  True,\n",
       "       False,  True,  True,  True,  True,  True,  True,  True,  True,\n",
       "        True,  True,  True, False,  True,  True,  True,  True,  True,\n",
       "        True,  True,  True, False,  True,  True,  True,  True,  True,\n",
       "        True,  True, False,  True, False,  True, False,  True,  True,\n",
       "        True, False,  True,  True,  True,  True,  True,  True,  True,\n",
       "        True,  True,  True,  True, False, False,  True,  True,  True,\n",
       "        True,  True,  True,  True,  True,  True,  True, False,  True,\n",
       "        True,  True,  True,  True,  True,  True,  True,  True,  True,\n",
       "        True,  True,  True,  True,  True,  True,  True,  True,  True,\n",
       "        True, False,  True,  True,  True,  True,  True,  True,  True,\n",
       "        True, False,  True, False,  True,  True,  True, False,  True,\n",
       "        True, False,  True,  True, False, False,  True,  True,  True,\n",
       "        True,  True,  True,  True,  True,  True,  True,  True,  True,\n",
       "        True,  True,  True,  True,  True, False,  True,  True,  True,\n",
       "        True, False,  True,  True,  True,  True,  True,  True,  True,\n",
       "       False,  True, False,  True,  True,  True, False,  True,  True,\n",
       "        True,  True,  True,  True,  True,  True,  True,  True,  True,\n",
       "        True,  True, False,  True,  True,  True,  True,  True,  True,\n",
       "        True,  True,  True,  True, False,  True,  True,  True, False,\n",
       "        True,  True,  True,  True,  True,  True,  True,  True, False,\n",
       "        True,  True,  True,  True,  True,  True,  True, False,  True,\n",
       "        True, False,  True,  True, False,  True,  True,  True,  True,\n",
       "       False,  True, False,  True,  True,  True,  True,  True, False,\n",
       "        True,  True,  True,  True, False, False,  True,  True,  True,\n",
       "        True,  True,  True, False,  True,  True,  True, False, False,\n",
       "        True,  True,  True,  True,  True,  True,  True,  True, False,\n",
       "        True,  True, False,  True, False,  True,  True,  True,  True,\n",
       "        True,  True,  True, False,  True,  True,  True, False,  True,\n",
       "       False, False,  True,  True,  True,  True,  True,  True,  True,\n",
       "        True,  True,  True,  True,  True,  True,  True,  True,  True,\n",
       "       False,  True,  True,  True, False,  True,  True,  True,  True,\n",
       "       False,  True,  True,  True,  True,  True, False,  True,  True,\n",
       "       False,  True,  True, False,  True,  True, False,  True, False,\n",
       "       False,  True,  True, False,  True,  True, False,  True,  True,\n",
       "        True,  True,  True,  True,  True,  True,  True,  True,  True,\n",
       "        True,  True,  True,  True, False, False, False,  True,  True,\n",
       "        True,  True, False,  True,  True,  True,  True,  True, False,\n",
       "        True,  True,  True,  True,  True,  True,  True,  True, False,\n",
       "       False,  True, False,  True,  True, False,  True,  True,  True,\n",
       "        True,  True, False,  True,  True,  True,  True,  True,  True,\n",
       "        True,  True, False,  True,  True,  True,  True,  True,  True,\n",
       "        True,  True,  True,  True,  True, False,  True,  True, False,\n",
       "        True,  True, False,  True,  True,  True,  True,  True,  True,\n",
       "        True,  True,  True,  True,  True,  True,  True,  True,  True,\n",
       "        True,  True,  True,  True, False,  True,  True,  True,  True,\n",
       "       False,  True,  True,  True,  True,  True,  True,  True,  True,\n",
       "        True,  True,  True,  True,  True,  True,  True,  True,  True,\n",
       "        True,  True, False,  True,  True,  True,  True,  True,  True,\n",
       "        True,  True,  True,  True,  True,  True,  True,  True,  True,\n",
       "        True, False,  True, False,  True, False,  True,  True, False,\n",
       "       False,  True,  True, False,  True,  True,  True,  True,  True,\n",
       "       False, False,  True,  True,  True,  True,  True,  True,  True,\n",
       "        True,  True,  True,  True,  True, False,  True, False,  True,\n",
       "        True,  True,  True,  True,  True,  True,  True,  True,  True,\n",
       "        True,  True,  True,  True,  True,  True,  True,  True,  True,\n",
       "        True,  True,  True, False,  True,  True,  True, False,  True,\n",
       "        True, False,  True,  True,  True,  True, False,  True, False,\n",
       "        True, False, False,  True,  True, False,  True,  True,  True,\n",
       "        True,  True,  True,  True,  True,  True,  True,  True,  True,\n",
       "        True,  True, False,  True,  True, False,  True,  True, False,\n",
       "        True,  True,  True,  True,  True,  True,  True,  True,  True,\n",
       "       False,  True,  True,  True,  True,  True,  True,  True, False,\n",
       "       False,  True,  True,  True, False,  True,  True,  True, False,\n",
       "        True,  True,  True,  True,  True,  True,  True,  True,  True,\n",
       "        True,  True,  True,  True,  True, False,  True,  True,  True,\n",
       "        True, False,  True,  True,  True,  True,  True,  True,  True,\n",
       "        True,  True,  True,  True,  True,  True, False, False,  True,\n",
       "        True,  True,  True,  True, False,  True,  True, False,  True,\n",
       "       False,  True,  True,  True, False,  True, False,  True, False,\n",
       "        True,  True,  True, False,  True,  True,  True, False,  True,\n",
       "       False,  True,  True, False,  True, False,  True,  True,  True,\n",
       "        True,  True,  True,  True,  True, False,  True,  True,  True,\n",
       "        True,  True,  True, False,  True,  True,  True,  True,  True,\n",
       "        True,  True,  True,  True,  True,  True,  True,  True,  True,\n",
       "        True,  True,  True, False,  True,  True,  True,  True,  True,\n",
       "        True,  True,  True,  True,  True,  True,  True,  True, False,\n",
       "        True,  True,  True, False,  True, False, False,  True,  True,\n",
       "        True,  True,  True, False,  True,  True, False,  True,  True,\n",
       "        True])"
      ]
     },
     "execution_count": 77,
     "metadata": {},
     "output_type": "execute_result"
    }
   ],
   "source": [
    "sims[5,:] < predictwise.loc['Colorado'].Obama"
   ]
  },
  {
   "cell_type": "markdown",
   "metadata": {},
   "source": [
    "This is a boolean numpy array. Summing coerces the True to 1 and False to 0 and gives us the total number of simulations"
   ]
  },
  {
   "cell_type": "code",
   "execution_count": 78,
   "metadata": {},
   "outputs": [
    {
     "data": {
      "text/plain": [
       "828"
      ]
     },
     "execution_count": 78,
     "metadata": {},
     "output_type": "execute_result"
    }
   ],
   "source": [
    "np.sum(sims[5,:] < predictwise.loc['Colorado'].Obama)"
   ]
  },
  {
   "cell_type": "markdown",
   "metadata": {},
   "source": [
    "And the fraction from the mean:"
   ]
  },
  {
   "cell_type": "code",
   "execution_count": 79,
   "metadata": {},
   "outputs": [
    {
     "data": {
      "text/plain": [
       "0.828"
      ]
     },
     "execution_count": 79,
     "metadata": {},
     "output_type": "execute_result"
    }
   ],
   "source": [
    "np.mean(sims[5,:] < predictwise.loc['Colorado'].Obama)"
   ]
  },
  {
   "cell_type": "markdown",
   "metadata": {},
   "source": [
    "Lets do it for all the states now. 51 rows of 100 trues and Falses"
   ]
  },
  {
   "cell_type": "code",
   "execution_count": 82,
   "metadata": {},
   "outputs": [
    {
     "data": {
      "text/plain": [
       "array([[0.   ],\n",
       "       [0.   ],\n",
       "       [0.062],\n",
       "       [0.   ],\n",
       "       [1.   ],\n",
       "       [0.807],\n",
       "       [1.   ],\n",
       "       [1.   ],\n",
       "       [1.   ],\n",
       "       [0.72 ],\n",
       "       [0.004],\n",
       "       [1.   ],\n",
       "       [0.   ],\n",
       "       [1.   ],\n",
       "       [0.036],\n",
       "       [0.837],\n",
       "       [0.   ],\n",
       "       [0.   ],\n",
       "       [0.   ],\n",
       "       [1.   ],\n",
       "       [1.   ],\n",
       "       [1.   ],\n",
       "       [0.987],\n",
       "       [0.982],\n",
       "       [0.   ],\n",
       "       [0.074],\n",
       "       [0.046],\n",
       "       [0.   ],\n",
       "       [0.851],\n",
       "       [0.857],\n",
       "       [0.998],\n",
       "       [0.985],\n",
       "       [1.   ],\n",
       "       [0.349],\n",
       "       [0.025],\n",
       "       [0.89 ],\n",
       "       [0.   ],\n",
       "       [0.976],\n",
       "       [0.978],\n",
       "       [1.   ],\n",
       "       [0.   ],\n",
       "       [0.001],\n",
       "       [0.001],\n",
       "       [0.   ],\n",
       "       [0.   ],\n",
       "       [1.   ],\n",
       "       [0.798],\n",
       "       [0.999],\n",
       "       [0.002],\n",
       "       [0.925],\n",
       "       [0.   ]])"
      ]
     },
     "execution_count": 82,
     "metadata": {},
     "output_type": "execute_result"
    }
   ],
   "source": [
    "predictwise.Obama.values.reshape(-1,1)"
   ]
  },
  {
   "cell_type": "code",
   "execution_count": 83,
   "metadata": {
    "scrolled": true
   },
   "outputs": [
    {
     "data": {
      "text/plain": [
       "array([[False, False, False, ..., False, False, False],\n",
       "       [False, False, False, ..., False, False, False],\n",
       "       [False,  True, False, ..., False,  True, False],\n",
       "       ...,\n",
       "       [False, False, False, ..., False, False, False],\n",
       "       [ True,  True,  True, ...,  True,  True,  True],\n",
       "       [False, False, False, ..., False, False, False]])"
      ]
     },
     "execution_count": 83,
     "metadata": {},
     "output_type": "execute_result"
    }
   ],
   "source": [
    "sims < predictwise.Obama.values.reshape(-1,1) # reshape for broadcasting"
   ]
  },
  {
   "cell_type": "markdown",
   "metadata": {},
   "source": [
    "Multiply by the number of electoral Votes in each state"
   ]
  },
  {
   "cell_type": "code",
   "execution_count": 85,
   "metadata": {},
   "outputs": [
    {
     "data": {
      "text/plain": [
       "array([[ 9],\n",
       "       [ 3],\n",
       "       [11],\n",
       "       [ 6],\n",
       "       [55],\n",
       "       [ 9],\n",
       "       [ 7],\n",
       "       [ 3],\n",
       "       [ 3],\n",
       "       [29],\n",
       "       [16],\n",
       "       [ 4],\n",
       "       [ 4],\n",
       "       [20],\n",
       "       [11],\n",
       "       [ 6],\n",
       "       [ 6],\n",
       "       [ 8],\n",
       "       [ 8],\n",
       "       [ 4],\n",
       "       [10],\n",
       "       [11],\n",
       "       [16],\n",
       "       [10],\n",
       "       [ 6],\n",
       "       [10],\n",
       "       [ 3],\n",
       "       [ 5],\n",
       "       [ 6],\n",
       "       [ 4],\n",
       "       [14],\n",
       "       [ 5],\n",
       "       [29],\n",
       "       [15],\n",
       "       [ 3],\n",
       "       [18],\n",
       "       [ 7],\n",
       "       [ 7],\n",
       "       [20],\n",
       "       [ 4],\n",
       "       [ 9],\n",
       "       [ 3],\n",
       "       [11],\n",
       "       [38],\n",
       "       [ 6],\n",
       "       [ 3],\n",
       "       [13],\n",
       "       [12],\n",
       "       [ 5],\n",
       "       [10],\n",
       "       [ 3]])"
      ]
     },
     "execution_count": 85,
     "metadata": {},
     "output_type": "execute_result"
    }
   ],
   "source": [
    "predictwise.Votes.values.reshape(-1,1)"
   ]
  },
  {
   "cell_type": "code",
   "execution_count": 87,
   "metadata": {},
   "outputs": [
    {
     "data": {
      "text/plain": [
       "array([[ 0,  0,  0, ...,  0,  0,  0],\n",
       "       [ 0,  0,  0, ...,  0,  0,  0],\n",
       "       [ 0, 11,  0, ...,  0, 11,  0],\n",
       "       ...,\n",
       "       [ 0,  0,  0, ...,  0,  0,  0],\n",
       "       [10, 10, 10, ..., 10, 10, 10],\n",
       "       [ 0,  0,  0, ...,  0,  0,  0]])"
      ]
     },
     "execution_count": 87,
     "metadata": {},
     "output_type": "execute_result"
    }
   ],
   "source": [
    "(sims < predictwise.Obama.values.reshape(-1,1))*predictwise.Votes.values.reshape(-1,1)"
   ]
  },
  {
   "cell_type": "markdown",
   "metadata": {},
   "source": [
    "If I sum the columns now, I get the total electoral votes in the country for Obama in each simulation"
   ]
  },
  {
   "cell_type": "code",
   "execution_count": 88,
   "metadata": {},
   "outputs": [
    {
     "data": {
      "text/plain": [
       "array([338, 328, 329, 314, 281, 303, 347, 329, 293, 326, 326, 314, 297,\n",
       "       332, 275, 315, 322, 291, 303, 316, 286, 341, 338, 295, 332, 320,\n",
       "       319, 347, 312, 306, 332, 323, 323, 315, 324, 332, 332, 368, 338,\n",
       "       316, 332, 297, 303, 326, 303, 332, 358, 341, 308, 296, 316, 347,\n",
       "       304, 324, 302, 319, 326, 313, 303, 313, 348, 325, 313, 312, 277,\n",
       "       318, 329, 317, 285, 347, 338, 347, 314, 294, 323, 312, 329, 326,\n",
       "       343, 347, 303, 332, 332, 329, 327, 290, 323, 347, 319, 329, 350,\n",
       "       319, 311, 324, 316, 291, 332, 334, 288, 317, 328, 326, 297, 303,\n",
       "       310, 347, 297, 303, 297, 332, 342, 327, 310, 332, 322, 309, 329,\n",
       "       343, 325, 341, 334, 341, 322, 289, 318, 309, 347, 319, 308, 297,\n",
       "       303, 303, 328, 319, 332, 313, 332, 358, 301, 331, 314, 342, 332,\n",
       "       332, 285, 281, 332, 314, 331, 333, 294, 298, 347, 285, 318, 294,\n",
       "       313, 338, 347, 318, 314, 343, 272, 322, 336, 328, 332, 314, 297,\n",
       "       332, 307, 336, 305, 342, 277, 325, 321, 279, 323, 329, 311, 316,\n",
       "       301, 308, 332, 338, 332, 310, 277, 347, 314, 326, 323, 284, 303,\n",
       "       299, 319, 332, 299, 325, 347, 328, 347, 332, 347, 332, 296, 278,\n",
       "       314, 323, 347, 308, 319, 330, 347, 319, 326, 347, 287, 334, 332,\n",
       "       294, 323, 351, 332, 331, 337, 350, 335, 303, 309, 319, 347, 341,\n",
       "       318, 313, 327, 344, 312, 326, 338, 314, 332, 332, 299, 341, 338,\n",
       "       309, 332, 326, 298, 332, 342, 294, 294, 319, 332, 280, 350, 318,\n",
       "       323, 314, 343, 347, 351, 326, 332, 285, 290, 332, 326, 301, 318,\n",
       "       303, 338, 306, 332, 326, 283, 293, 312, 297, 328, 329, 320, 323,\n",
       "       315, 332, 333, 335, 297, 347, 299, 332, 332, 304, 319, 323, 303,\n",
       "       313, 297, 293, 326, 314, 313, 296, 335, 339, 312, 294, 297, 303,\n",
       "       279, 297, 332, 332, 343, 332, 299, 308, 332, 347, 345, 271, 316,\n",
       "       353, 323, 289, 296, 327, 320, 334, 341, 319, 349, 335, 360, 332,\n",
       "       318, 318, 332, 326, 332, 321, 325, 332, 328, 323, 322, 342, 319,\n",
       "       303, 332, 343, 268, 343, 326, 314, 325, 336, 297, 350, 326, 347,\n",
       "       353, 314, 308, 310, 303, 303, 347, 319, 360, 332, 301, 332, 319,\n",
       "       326, 322, 321, 325, 305, 318, 326, 332, 303, 333, 294, 285, 300,\n",
       "       341, 285, 312, 269, 303, 303, 290, 317, 278, 321, 307, 323, 334,\n",
       "       303, 309, 297, 303, 303, 332, 280, 297, 334, 303, 314, 332, 332,\n",
       "       310, 357, 313, 311, 332, 303, 291, 327, 324, 341, 351, 338, 332,\n",
       "       341, 328, 301, 348, 329, 320, 307, 303, 342, 338, 299, 294, 302,\n",
       "       332, 326, 326, 297, 326, 284, 279, 303, 292, 332, 317, 314, 318,\n",
       "       319, 332, 318, 291, 309, 332, 315, 351, 323, 347, 282, 290, 294,\n",
       "       309, 329, 318, 337, 323, 342, 332, 347, 325, 309, 347, 297, 332,\n",
       "       328, 307, 322, 319, 312, 343, 292, 302, 332, 290, 347, 314, 319,\n",
       "       318, 303, 325, 338, 319, 335, 300, 319, 332, 309, 319, 335, 303,\n",
       "       332, 323, 288, 319, 329, 316, 331, 328, 334, 292, 347, 332, 341,\n",
       "       323, 296, 326, 328, 347, 332, 334, 343, 319, 357, 313, 313, 322,\n",
       "       288, 347, 320, 303, 340, 286, 301, 303, 326, 347, 338, 314, 347,\n",
       "       319, 317, 313, 310, 325, 303, 347, 303, 293, 303, 319, 347, 332,\n",
       "       332, 335, 303, 303, 332, 325, 331, 312, 323, 319, 326, 314, 325,\n",
       "       299, 326, 320, 332, 338, 338, 303, 295, 337, 333, 323, 330, 314,\n",
       "       317, 303, 305, 340, 332, 294, 338, 328, 294, 323, 334, 318, 338,\n",
       "       303, 328, 313, 337, 347, 308, 331, 332, 330, 341, 297, 322, 326,\n",
       "       332, 341, 332, 309, 308, 310, 278, 332, 339, 319, 300, 341, 328,\n",
       "       312, 332, 332, 332, 299, 275, 357, 324, 332, 332, 329, 328, 342,\n",
       "       318, 317, 269, 326, 265, 350, 332, 315, 343, 303, 326, 323, 303,\n",
       "       288, 343, 343, 327, 341, 293, 313, 322, 332, 313, 332, 319, 332,\n",
       "       325, 308, 322, 319, 345, 332, 332, 320, 323, 272, 326, 323, 303,\n",
       "       332, 314, 342, 305, 332, 346, 322, 342, 295, 309, 314, 303, 333,\n",
       "       309, 293, 332, 327, 327, 324, 326, 308, 323, 311, 334, 332, 303,\n",
       "       319, 313, 334, 341, 340, 327, 293, 293, 319, 350, 353, 324, 335,\n",
       "       303, 328, 332, 319, 337, 332, 319, 338, 306, 332, 333, 343, 290,\n",
       "       281, 313, 329, 303, 324, 303, 306, 318, 332, 310, 291, 314, 330,\n",
       "       308, 322, 290, 324, 358, 294, 310, 343, 319, 303, 357, 312, 306,\n",
       "       332, 303, 278, 282, 303, 328, 290, 334, 347, 347, 326, 306, 332,\n",
       "       314, 347, 343, 294, 337, 298, 332, 332, 332, 297, 275, 326, 326,\n",
       "       306, 347, 319, 328, 303, 333, 332, 326, 334, 347, 347, 301, 303,\n",
       "       322, 297, 319, 328, 329, 332, 338, 265, 332, 313, 347, 319, 341,\n",
       "       334, 295, 347, 317, 357, 309, 338, 332, 318, 316, 329, 360, 287,\n",
       "       290, 318, 313, 308, 342, 318, 311, 343, 342, 347, 343, 263, 337,\n",
       "       318, 296, 347, 343, 290, 290, 352, 347, 303, 347, 306, 341, 314,\n",
       "       318, 334, 273, 325, 343, 313, 313, 303, 319, 317, 263, 279, 313,\n",
       "       326, 320, 285, 318, 328, 317, 299, 322, 310, 347, 305, 316, 285,\n",
       "       343, 328, 341, 314, 290, 326, 327, 296, 326, 328, 309, 326, 294,\n",
       "       313, 310, 285, 343, 303, 297, 326, 335, 318, 332, 302, 326, 334,\n",
       "       323, 313, 328, 313, 326, 322, 301, 323, 329, 313, 294, 303, 278,\n",
       "       330, 330, 332, 338, 266, 309, 347, 313, 322, 318, 319, 266, 353,\n",
       "       328, 326, 299, 319, 319, 299, 329, 294, 285, 338, 319, 309, 332,\n",
       "       332, 270, 324, 313, 343, 300, 341, 314, 318, 314, 347, 332, 317,\n",
       "       332, 299, 324, 319, 335, 326, 324, 342, 323, 325, 272, 303, 342,\n",
       "       332, 319, 332, 343, 294, 357, 343, 315, 326, 343, 329, 273, 342,\n",
       "       332, 324, 347, 334, 316, 307, 336, 298, 285, 309, 308, 338, 309,\n",
       "       313, 303, 358, 322, 281, 310, 334, 302, 291, 334, 346, 300])"
      ]
     },
     "execution_count": 88,
     "metadata": {},
     "output_type": "execute_result"
    }
   ],
   "source": [
    "np.sum((sims < predictwise.Obama.values.reshape(-1,1))*predictwise.Votes.values.reshape(-1,1), axis=0)"
   ]
  },
  {
   "cell_type": "code",
   "execution_count": 90,
   "metadata": {},
   "outputs": [],
   "source": [
    "def simulate_election(model, n_sim):\n",
    "    simulations = np.random.uniform(size=(51, n_sim))\n",
    "    obama_votes = (simulations < model.Obama.values.reshape(-1, 1)) * model.Votes.values.reshape(-1, 1)\n",
    "    #summing over rows gives the total electoral votes for each simulation\n",
    "    return obama_votes.sum(axis=0)"
   ]
  },
  {
   "cell_type": "markdown",
   "metadata": {},
   "source": [
    "This is how `simulate_election` works.\n",
    "\n",
    "The following code takes the necessary probabilities for the Predictwise data, and runs 10000 simulations. If you think of this in terms of our coins, think of it as having 51 biased coins, one for each state, and tossing them 10,000 times each.\n",
    "\n",
    "We use the results to compute the number of simulations, according to this predictive model, that Obama wins the election (i.e., the probability that he receives 269 or more electoral college votes)"
   ]
  },
  {
   "cell_type": "code",
   "execution_count": 91,
   "metadata": {},
   "outputs": [
    {
     "name": "stdout",
     "output_type": "stream",
     "text": [
      "<class 'numpy.ndarray'>\n"
     ]
    },
    {
     "data": {
      "text/plain": [
       "9942"
      ]
     },
     "execution_count": 91,
     "metadata": {},
     "output_type": "execute_result"
    }
   ],
   "source": [
    "result = simulate_election(predictwise, 10000)\n",
    "print(type(result))\n",
    "np.sum(result >= 269)"
   ]
  },
  {
   "cell_type": "markdown",
   "metadata": {},
   "source": [
    "There are roughly only 50 simulations in which Romney wins the election!\n",
    "\n",
    "#### Displaying the prediction\n",
    "\n",
    "Now, lets visualize the simulation. We will build a histogram from the result of `simulate_election`. We will **normalize** the histogram by dividing the frequency of a vote tally by the number of simulations. We'll overplot the \"victory threshold\" of 269 votes as a vertical black line and the result (Obama winning 332 votes) as a vertical red line.\n",
    "\n",
    "We also compute the number of votes at the 5th and 95th quantiles, which we call the spread, and display it (this is an estimate of the outcome's uncertainty). By 5th quantile we mean that if we ordered the number of votes Obama gets in each simulation in increasing order, the 5th quantile is the number below which 5\\% of the simulations lie. \n",
    "\n",
    "We also display the probability of an Obama victory    \n",
    "    "
   ]
  },
  {
   "cell_type": "code",
   "execution_count": 92,
   "metadata": {},
   "outputs": [],
   "source": [
    "def plot_simulation(simulation):    \n",
    "    plt.hist(simulation, bins=np.arange(200, 538, 1), \n",
    "             label='simulations', align='left', normed=True)\n",
    "    plt.axvline(332, 0, .5, color='r', label='Actual Outcome')\n",
    "    plt.axvline(269, 0, .5, color='k', label='Victory Threshold')\n",
    "    p05 = np.percentile(simulation, 5.)\n",
    "    p95 = np.percentile(simulation, 95.)\n",
    "    iq = int(p95 - p05)\n",
    "    pwin = ((simulation >= 269).mean() * 100)\n",
    "    plt.title(\"Chance of Obama Victory: %0.2f%%, Spread: %d votes\" % (pwin, iq))\n",
    "    plt.legend(frameon=False, loc='upper left')\n",
    "    plt.xlabel(\"Obama Electoral College Votes\")\n",
    "    plt.ylabel(\"Probability\")\n",
    "    sns.despine()"
   ]
  },
  {
   "cell_type": "code",
   "execution_count": 93,
   "metadata": {},
   "outputs": [
    {
     "name": "stderr",
     "output_type": "stream",
     "text": [
      "/srv/conda/envs/notebook/lib/python3.7/site-packages/matplotlib/axes/_axes.py:6521: MatplotlibDeprecationWarning: \n",
      "The 'normed' kwarg was deprecated in Matplotlib 2.1 and will be removed in 3.1. Use 'density' instead.\n",
      "  alternative=\"'density'\", removal=\"3.1\")\n"
     ]
    },
    {
     "data": {
      "image/png": "[encoded data removed]",
      "text/plain": [
       "<Figure size 432x288 with 1 Axes>"
      ]
     },
     "metadata": {
      "needs_background": "light"
     },
     "output_type": "display_data"
    }
   ],
   "source": [
    "with sns.plotting_context('poster'):\n",
    "    plot_simulation(result)"
   ]
  },
  {
   "cell_type": "markdown",
   "metadata": {},
   "source": [
    "The model created by combining the probabilities we obtained from Predictwise with the simulation of a biased coin flip corresponding to the win probability in each states leads us to obtain a histogram of election outcomes. We are plotting the probabilities of a prediction, so we call this distribution over outcomes the **predictive distribution**. Simulating from our model and plotting a histogram allows us to visualize this predictive distribution. In general, such a set of probabilities is called a **probability distribution** or **probability mass function**. "
   ]
  },
  {
   "cell_type": "markdown",
   "metadata": {},
   "source": [
    "### Evaluating and Validating our Prediction\n",
    "\n",
    "The point of creating a probabilistic predictive model is to simultaneously make a forecast and give an estimate of how certain we are about it. Let us **evaluate** our prediction to get a sense of how useful it is, and we **validate** the predictive model by comparing it to real data.\n",
    "\n",
    "However, in order to trust our prediction or our reported level of uncertainty, the model needs to be *correct*. We say a model is *correct* if it honestly accounts for all of the mechanisms of variation in the system we're forecasting. Another way of thinking about this is that the predictive distribution matches the true distribution of election outcomes when the information leading up to the election matches the information that we have now.\n",
    "\n",
    "In general a model is never entirely correct: it is just an approximation to the underlying natural phenomenon. However it might be correct enough to be useful: our simple model of a fair coin is one such example where we've substituted subtle notions of the weight distributions of a coin or trust in the US mint by a simple number, 0.5.\n",
    "\n",
    "#### Accuracy and precision\n",
    "\n",
    "Suppose that we believe the model is correct \"enough\". Under this assumption, we can evaluate our prediction by characterizing its **accuracy** and **precision**.\n",
    "\n",
    "Accuracy refers to the closeness of our predictions to the true result, while precision refers to the uncertainty about our predicted value. Thus, to evaluate the accuracy of our prediction, we can check to see whether the center of mass of our predictive distribution seems to match the true outcome.  So, based on the outcome we observed, the model seems accurate. To make a more rigorous statement about accuracy, we would want to have more replications (that is, more elections) to see whether the expectation of the predictive distribution consistently matches the true outcomes. \n",
    "\n",
    "To evaluate the **precision** of our prediction,  we look at the spread of the histogram, which is 60 votes, and relatively large. Because we are assuming the model is correct, we can interpret the spread of the histogram as a measure of the variability among the election outcomes that are consistent with the information we have. Whether the prediction is precise *enough* is a question of what you want to do with your prediction. For example, it is not if you want to be able to call the winner of a close election (say the candidates are separated by less than 30 votes), this prediction would not be precise enough to identify a winner with a lot of confidence. To handle this, we might wish to incorporate more information into the model to reduce the spread of likely election outcomes. \n",
    "\n",
    "On the other hand, what we are really trying to do is to see if Romney has any chance of winning by Obama not exceeding the 269 votes threshold. For this purpose the precision is good enough; the win threshold is way outside the spread!\n",
    "\n",
    "![m:](images/avp1.jpg)\n",
    "\n",
    "![m:accuracy vs precision](images/avp2.jpg)"
   ]
  }
 ],
 "metadata": {
  "celltoolbar": "Edit Metadata",
  "kernelspec": {
   "display_name": "Python 3",
   "language": "python",
   "name": "python3"
  },
  "language_info": {
   "codemirror_mode": {
    "name": "ipython",
    "version": 3
   },
   "file_extension": ".py",
   "mimetype": "text/x-python",
   "name": "python",
   "nbconvert_exporter": "python",
   "pygments_lexer": "ipython3",
   "version": "3.7.3"
  }
 },
 "nbformat": 4,
 "nbformat_minor": 2
}
